{
 "cells": [
  {
   "cell_type": "code",
   "execution_count": null,
   "id": "f4320973",
   "metadata": {},
   "outputs": [],
   "source": [
    "import geopandas as gpd\n",
    "import matplotlib.pyplot as plt\n",
    "import pandas as pd\n",
    "import shapely\n",
    "import numpy as np\n",
    "from scipy.spatial import Delaunay\n",
    "import torch"
   ]
  },
  {
   "cell_type": "markdown",
   "id": "a77b617a",
   "metadata": {},
   "source": [
    "# Loading a shapefile\n",
    "\n",
    "We downloaded a publicly available [shapefile](https://mis.bkg.bund.de/trefferanzeige?docuuid=D38F5B40-9209-4DC0-82BC-57FB575D29D7) and continued from there. Save this file and give its path to the next cell."
   ]
  },
  {
   "cell_type": "code",
   "execution_count": null,
   "id": "2ce74eed",
   "metadata": {},
   "outputs": [],
   "source": [
    "path = \"/home/shapefiles/Germany\""
   ]
  },
  {
   "cell_type": "code",
   "execution_count": null,
   "id": "b41e0e20",
   "metadata": {},
   "outputs": [],
   "source": [
    "df = gpd.read_file(path+\"/NUTS250k/250_NUTS3.shp\")\n",
    "print(df.head())\n",
    "domain = df.geometry.unary_union\n",
    "domain"
   ]
  },
  {
   "cell_type": "markdown",
   "id": "9620ea3a",
   "metadata": {},
   "source": [
    "# Creation of Mesh\n",
    "\n",
    "A mesh-file (.msh), readable for gmsh can be created with the following snippet. Gmsh can create a mesh using this .msh file. For more information we refer to the documentation of *deal.ii* and *gmsh*."
   ]
  },
  {
   "cell_type": "code",
   "execution_count": null,
   "id": "43d61da3",
   "metadata": {},
   "outputs": [],
   "source": [
    "print(path + \"/\" + \"Germany\" + \"_coastline\" + '.geo',)"
   ]
  },
  {
   "cell_type": "code",
   "execution_count": null,
   "id": "d2602c47",
   "metadata": {},
   "outputs": [],
   "source": [
    "amount_points = len(border_b.exterior.coords)\n",
    "with open(path + \"/\" + country_name + \"_coastline\" + '.geo', 'w') as f:\n",
    "    f.write('// Gmsh project created on Tue Apr 11 16:14:17 2024')\n",
    "    f.write('\\n')\n",
    "    f.write('SetFactory(\"OpenCASCADE\");')\n",
    "    f.write('\\n')\n",
    "    #add points\n",
    "    for i, (x,y) in enumerate(border_b.exterior.coords):\n",
    "        f.write(f'//+')\n",
    "        f.write('\\n')\n",
    "        f.write(f'Point({i+1}) = {{ {x}, {y} , 1.0}};')\n",
    "        f.write('\\n')\n",
    "    #add lines\n",
    "    for i in range(amount_points -1): #last point = first point, self-lines are not allowed\n",
    "        f.write(\"//+\")\n",
    "        f.write('\\n')\n",
    "        f.write(f'Line({i+1}) = {{{i+1}, {i+2}}};\\n')\n",
    "    #add curve loops to create the boundary\n",
    "    curve_string = \"1\" #?? last bits by hand\n",
    "    for i in range(2, amount_points):\n",
    "        curve_string = curve_string + \", \" + str(i)\n",
    "    f.write(\"//+\\n\")\n",
    "    f.write(f\"Curve Loop(1) = {{ {curve_string} }};\\n\")\n",
    "    f.write(\"//+\\n\")\n",
    "    f.write(\"Surface(1) = {1};\\n\")\n",
    "    # a\n",
    "    # a\n",
    "    f.write(\"//+\\n\")\n",
    "    f.write(\"Mesh.Algorithm = 2;\\n\")\n",
    "    f.write(\"Mesh.RecombineAll = 1;\")\n",
    "    f.write(\"Mesh.CharacteristicLengthFactor = .6;\")\n",
    "    f.write(\"Mesh.SubdivisionAlgorithm = 1;\")\n",
    "    f.write(\"Mesh.Smoothing = 20;\")\n",
    "    f.write(\"\"\"Show \"*\";\\n\"\"\")"
   ]
  },
  {
   "cell_type": "markdown",
   "id": "f8344c42",
   "metadata": {},
   "source": [
    "# Creation of evaluation points and their adjacencies"
   ]
  },
  {
   "cell_type": "code",
   "execution_count": null,
   "id": "ad7290bc",
   "metadata": {},
   "outputs": [],
   "source": [
    "def Random_Points_in_Bounds(polygon, number):   \n",
    "    minx, miny, maxx, maxy = polygon.bounds\n",
    "    x = np.random.uniform( minx, maxx, number )\n",
    "    y = np.random.uniform( miny, maxy, number )\n",
    "    return x, y"
   ]
  },
  {
   "cell_type": "code",
   "execution_count": null,
   "id": "eeef29a7",
   "metadata": {},
   "outputs": [],
   "source": [
    "rectangle = shapely.geometry.Polygon([\n",
    "    (3.3e6, 6.3e6),\n",
    "    (3.3e6, 5.9e6),\n",
    "    (3.9e6, 5.9e6),\n",
    "    (3.9e6, 6.3e6)\n",
    "])\n",
    "coast = rectangle.difference(domain)\n",
    "border_b = coast.buffer(8000).simplify(10000).buffer(-15000)\n",
    "border_b"
   ]
  },
  {
   "cell_type": "code",
   "execution_count": null,
   "id": "8393b6e3",
   "metadata": {},
   "outputs": [],
   "source": [
    "x,y = Random_Points_in_Bounds(border_b,4000)\n",
    "df = pd.DataFrame()\n",
    "df['points'] = list(zip(x,y))\n",
    "df['points'] = df['points'].apply(shapely.geometry.Point)\n",
    "gdf_points = gpd.GeoDataFrame(df, geometry='points')"
   ]
  },
  {
   "cell_type": "code",
   "execution_count": null,
   "id": "b7a7e3eb",
   "metadata": {},
   "outputs": [],
   "source": [
    "gdf_points.plot()"
   ]
  },
  {
   "cell_type": "code",
   "execution_count": null,
   "id": "e0ebe826",
   "metadata": {},
   "outputs": [],
   "source": [
    "gdf_points[border_b.contains(gdf_points)].plot()"
   ]
  },
  {
   "cell_type": "code",
   "execution_count": null,
   "id": "a1966aa5",
   "metadata": {},
   "outputs": [],
   "source": [
    "gdf_output = gdf_points[border_b.contains(gdf_points)].dropna()\n",
    "points = np.stack((gdf_output.points.x,gdf_output.points.y), axis=-1)\n",
    "tri = Delaunay(points)"
   ]
  },
  {
   "cell_type": "code",
   "execution_count": null,
   "id": "0e0f6b80",
   "metadata": {},
   "outputs": [],
   "source": [
    "plt.triplot(points[:,0], points[:,1], tri.simplices)\n",
    "plt.plot(points[:,0], points[:,1], 'o')\n",
    "plt.show()"
   ]
  },
  {
   "cell_type": "code",
   "execution_count": null,
   "id": "c41f1e8d",
   "metadata": {},
   "outputs": [],
   "source": [
    "edges_set = set()\n",
    "for simplex in tri.simplices:\n",
    "    # Each simplex is a triangle with vertices a, b, c\n",
    "    for i in range(3):\n",
    "        # Extract edges by pairing vertices, and sort them\n",
    "        # Sorting ensures that the edge (a, b) is the same as (b, a)\n",
    "        edge = tuple(sorted([simplex[i], simplex[(i + 1) % 3]]))\n",
    "        edges_set.add(edge)\n",
    "edges = list(edges_set)"
   ]
  },
  {
   "cell_type": "code",
   "execution_count": null,
   "id": "463e8ac4",
   "metadata": {},
   "outputs": [],
   "source": [
    "edge_index_tensor = []\n",
    "for e in edges:\n",
    "    #print(e, points[e[0]], points[e[1]])\n",
    "    x = points[e[0]]\n",
    "    y = points[e[1]]\n",
    "    dist = np.linalg.norm(x-y)\n",
    "    #print(dist)\n",
    "    line = shapely.geometry.LineString((x,y))\n",
    "    if not border_b.exterior.intersection(line):\n",
    "        #print(torch.tensor(e))\n",
    "        #print(torch.tensor((torch.tensor(e)[1], torch.tensor(e)[0])))\n",
    "        #print(torch.tensor(dist))\n",
    "        edge_index_tensor.append(torch.cat((torch.tensor(e), torch.tensor(dist).unsqueeze(0))))\n",
    "        reverse = torch.tensor((torch.tensor(e)[1], torch.tensor(e)[0]))\n",
    "        edge_index_tensor.append(torch.cat((reverse, torch.tensor(dist).unsqueeze(0))))\n",
    "#print(edge_index_tensor)\n",
    "edge_index_tensor = torch.stack(edge_index_tensor)\n",
    "print(edge_index_tensor)"
   ]
  },
  {
   "cell_type": "code",
   "execution_count": null,
   "id": "bc7133d0",
   "metadata": {},
   "outputs": [],
   "source": [
    "torch.save(edge_index_tensor, \"germany_coastline_adjacency_increased\")\n",
    "np.savetxt(\"Germany_coastline_points_increased.csv\", points, delimiter=\",\")"
   ]
  },
  {
   "cell_type": "code",
   "execution_count": null,
   "id": "4ba76f12",
   "metadata": {},
   "outputs": [],
   "source": []
  }
 ],
 "metadata": {
  "kernelspec": {
   "display_name": "Python [conda env:g38]",
   "language": "python",
   "name": "conda-env-g38-py"
  },
  "language_info": {
   "codemirror_mode": {
    "name": "ipython",
    "version": 3
   },
   "file_extension": ".py",
   "mimetype": "text/x-python",
   "name": "python",
   "nbconvert_exporter": "python",
   "pygments_lexer": "ipython3",
   "version": "3.8.13"
  }
 },
 "nbformat": 4,
 "nbformat_minor": 5
}
